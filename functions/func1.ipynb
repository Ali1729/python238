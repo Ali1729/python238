{
 "cells": [
  {
   "cell_type": "code",
   "execution_count": null,
   "metadata": {},
   "outputs": [],
   "source": []
  },
  {
   "cell_type": "markdown",
   "metadata": {},
   "source": [
    "Why Function\n",
    "..\n",
    "Code reuse\n",
    "Minimizing redundancy\n",
    "--\n",
    "steps"
   ]
  },
  {
   "cell_type": "code",
   "execution_count": 3,
   "metadata": {},
   "outputs": [],
   "source": [
    "def fun1(name,):\n",
    "    print(\"-------------------\")\n",
    "    print(name)\n",
    "    print(\"-------------------\")"
   ]
  },
  {
   "cell_type": "code",
   "execution_count": 6,
   "metadata": {},
   "outputs": [],
   "source": [
    "def fun2(name,):\n",
    "    print(\"-------------------------------------\")\n",
    "    print(name)\n",
    "    print(\"-------------------------------------\")"
   ]
  },
  {
   "cell_type": "code",
   "execution_count": 7,
   "metadata": {},
   "outputs": [
    {
     "name": "stdout",
     "output_type": "stream",
     "text": [
      "-------------------\n",
      "ali\n",
      "-------------------\n",
      "-------------------------------------\n",
      "ali\n",
      "-------------------------------------\n"
     ]
    }
   ],
   "source": [
    "fun1(\"ali\")\n",
    "fun2(\"ali\")"
   ]
  },
  {
   "cell_type": "code",
   "execution_count": 8,
   "metadata": {},
   "outputs": [],
   "source": [
    "def fun1(name,number_of_dashes):\n",
    "    print(\"-\" * number_of_dashes)\n",
    "    print(name)\n",
    "    print(\"-\" * number_of_dashes)"
   ]
  },
  {
   "cell_type": "code",
   "execution_count": 9,
   "metadata": {},
   "outputs": [
    {
     "name": "stdout",
     "output_type": "stream",
     "text": [
      "--------------------\n",
      "ali\n",
      "--------------------\n"
     ]
    }
   ],
   "source": [
    "fun1(\"ali\",20)"
   ]
  },
  {
   "cell_type": "markdown",
   "metadata": {},
   "source": [
    "#argumens while calling, and what is passed in function names does not matter."
   ]
  },
  {
   "cell_type": "code",
   "execution_count": 16,
   "metadata": {},
   "outputs": [],
   "source": [
    "def fun1(a,b):\n",
    "    print(a,b)"
   ]
  },
  {
   "cell_type": "code",
   "execution_count": 17,
   "metadata": {},
   "outputs": [
    {
     "name": "stdout",
     "output_type": "stream",
     "text": [
      "20 10\n"
     ]
    }
   ],
   "source": [
    "a =10\n",
    "b =20\n",
    "fun1(b,a)"
   ]
  },
  {
   "cell_type": "code",
   "execution_count": null,
   "metadata": {},
   "outputs": [],
   "source": [
    "# arguments are passed by positions unless we specify"
   ]
  },
  {
   "cell_type": "code",
   "execution_count": 18,
   "metadata": {},
   "outputs": [
    {
     "name": "stdout",
     "output_type": "stream",
     "text": [
      "10 20\n"
     ]
    }
   ],
   "source": [
    "a =10\n",
    "b =20\n",
    "fun1(b=b,a =a)"
   ]
  },
  {
   "cell_type": "code",
   "execution_count": null,
   "metadata": {},
   "outputs": [],
   "source": [
    "x =10\n",
    "y =20\n",
    "fun1(b=y,a =x)"
   ]
  },
  {
   "cell_type": "markdown",
   "metadata": {},
   "source": [
    "# number of arguments"
   ]
  },
  {
   "cell_type": "code",
   "execution_count": null,
   "metadata": {},
   "outputs": [],
   "source": [
    "def fun1(a,b):\n",
    "    print(a,b)"
   ]
  },
  {
   "cell_type": "code",
   "execution_count": 14,
   "metadata": {},
   "outputs": [
    {
     "ename": "TypeError",
     "evalue": "fun1() missing 1 required positional argument: 'b'",
     "output_type": "error",
     "traceback": [
      "\u001b[1;31m---------------------------------------------------------------------------\u001b[0m",
      "\u001b[1;31mTypeError\u001b[0m                                 Traceback (most recent call last)",
      "Cell \u001b[1;32mIn[14], line 1\u001b[0m\n\u001b[1;32m----> 1\u001b[0m fun1(\u001b[39m1\u001b[39;49m)\n",
      "\u001b[1;31mTypeError\u001b[0m: fun1() missing 1 required positional argument: 'b'"
     ]
    }
   ],
   "source": [
    "fun1(1)"
   ]
  },
  {
   "cell_type": "code",
   "execution_count": 15,
   "metadata": {},
   "outputs": [
    {
     "ename": "TypeError",
     "evalue": "fun1() takes 2 positional arguments but 3 were given",
     "output_type": "error",
     "traceback": [
      "\u001b[1;31m---------------------------------------------------------------------------\u001b[0m",
      "\u001b[1;31mTypeError\u001b[0m                                 Traceback (most recent call last)",
      "Cell \u001b[1;32mIn[15], line 1\u001b[0m\n\u001b[1;32m----> 1\u001b[0m fun1(\u001b[39m1\u001b[39;49m,\u001b[39m2\u001b[39;49m,\u001b[39m3\u001b[39;49m)\n",
      "\u001b[1;31mTypeError\u001b[0m: fun1() takes 2 positional arguments but 3 were given"
     ]
    }
   ],
   "source": [
    "fun1(1,2,3)"
   ]
  },
  {
   "cell_type": "code",
   "execution_count": null,
   "metadata": {},
   "outputs": [],
   "source": [
    "a = 10;\n"
   ]
  },
  {
   "cell_type": "markdown",
   "metadata": {},
   "source": [
    "\n"
   ]
  },
  {
   "cell_type": "code",
   "execution_count": 19,
   "metadata": {},
   "outputs": [],
   "source": [
    "def fun3():\n",
    "    pass"
   ]
  },
  {
   "cell_type": "code",
   "execution_count": 21,
   "metadata": {},
   "outputs": [],
   "source": [
    "fun3()"
   ]
  },
  {
   "cell_type": "code",
   "execution_count": 23,
   "metadata": {},
   "outputs": [
    {
     "data": {
      "text/plain": [
       "<function __main__.fun3()>"
      ]
     },
     "execution_count": 23,
     "metadata": {},
     "output_type": "execute_result"
    }
   ],
   "source": [
    "fun3"
   ]
  },
  {
   "cell_type": "code",
   "execution_count": 25,
   "metadata": {},
   "outputs": [
    {
     "data": {
      "text/plain": [
       "6"
      ]
     },
     "execution_count": 25,
     "metadata": {},
     "output_type": "execute_result"
    }
   ],
   "source": [
    "fun4 =6\n",
    "fun4"
   ]
  },
  {
   "cell_type": "code",
   "execution_count": 26,
   "metadata": {},
   "outputs": [],
   "source": [
    "def fun5():\n",
    "    pass"
   ]
  },
  {
   "cell_type": "code",
   "execution_count": null,
   "metadata": {},
   "outputs": [],
   "source": [
    "def mul():\n",
    "    pass"
   ]
  },
  {
   "cell_type": "markdown",
   "metadata": {},
   "source": [
    "return"
   ]
  },
  {
   "cell_type": "code",
   "execution_count": 27,
   "metadata": {},
   "outputs": [],
   "source": [
    "def mul(a,b):\n",
    "    c = a*b"
   ]
  },
  {
   "cell_type": "code",
   "execution_count": 31,
   "metadata": {},
   "outputs": [],
   "source": [
    "d = mul(5,6)"
   ]
  },
  {
   "cell_type": "code",
   "execution_count": 33,
   "metadata": {},
   "outputs": [
    {
     "name": "stdout",
     "output_type": "stream",
     "text": [
      "None\n"
     ]
    }
   ],
   "source": [
    "print(d)"
   ]
  },
  {
   "cell_type": "code",
   "execution_count": 34,
   "metadata": {},
   "outputs": [],
   "source": [
    "def mul(a,b):\n",
    "    c = a*b\n",
    "    return c"
   ]
  },
  {
   "cell_type": "code",
   "execution_count": 35,
   "metadata": {},
   "outputs": [],
   "source": [
    "d = mul(5,6)"
   ]
  },
  {
   "cell_type": "code",
   "execution_count": 36,
   "metadata": {},
   "outputs": [
    {
     "data": {
      "text/plain": [
       "30"
      ]
     },
     "execution_count": 36,
     "metadata": {},
     "output_type": "execute_result"
    }
   ],
   "source": [
    "d"
   ]
  },
  {
   "cell_type": "markdown",
   "metadata": {},
   "source": [
    "Parameters can take any kind of objects"
   ]
  },
  {
   "cell_type": "code",
   "execution_count": 40,
   "metadata": {},
   "outputs": [],
   "source": [
    "def append2(x):\n",
    "    x.append(10)"
   ]
  },
  {
   "cell_type": "code",
   "execution_count": 41,
   "metadata": {},
   "outputs": [],
   "source": [
    "a = [1,2,3,4]\n",
    "append2(a)"
   ]
  },
  {
   "cell_type": "code",
   "execution_count": 42,
   "metadata": {},
   "outputs": [
    {
     "data": {
      "text/plain": [
       "[1, 2, 3, 4, 10]"
      ]
     },
     "execution_count": 42,
     "metadata": {},
     "output_type": "execute_result"
    }
   ],
   "source": [
    "a"
   ]
  },
  {
   "cell_type": "markdown",
   "metadata": {},
   "source": [
    "return can return can any kind of object."
   ]
  },
  {
   "cell_type": "code",
   "execution_count": 37,
   "metadata": {},
   "outputs": [],
   "source": [
    "a = [1,2,3,4]"
   ]
  },
  {
   "cell_type": "code",
   "execution_count": 43,
   "metadata": {},
   "outputs": [],
   "source": [
    "def append2(x):\n",
    "    x.append(10)\n",
    "    return x\n",
    "    "
   ]
  },
  {
   "cell_type": "code",
   "execution_count": 45,
   "metadata": {},
   "outputs": [
    {
     "name": "stdout",
     "output_type": "stream",
     "text": [
      "[1, 2, 3, 4, 10]\n"
     ]
    }
   ],
   "source": [
    "a = [1,2,3,4]\n",
    "y = append2(a)\n",
    "print(y)"
   ]
  },
  {
   "cell_type": "markdown",
   "metadata": {},
   "source": [
    "return can return any number of values."
   ]
  },
  {
   "cell_type": "code",
   "execution_count": 46,
   "metadata": {},
   "outputs": [],
   "source": [
    "def append2(x):\n",
    "    x.append(10)\n",
    "    return x[0],x[-1]"
   ]
  },
  {
   "cell_type": "code",
   "execution_count": 52,
   "metadata": {},
   "outputs": [
    {
     "name": "stdout",
     "output_type": "stream",
     "text": [
      "1 10\n"
     ]
    }
   ],
   "source": [
    "a = [1,2,3,4]\n",
    "y,z = append2(a)\n",
    "print(y,z)"
   ]
  },
  {
   "cell_type": "code",
   "execution_count": null,
   "metadata": {},
   "outputs": [],
   "source": [
    "#call by value, call by reference"
   ]
  },
  {
   "cell_type": "code",
   "execution_count": 53,
   "metadata": {},
   "outputs": [
    {
     "name": "stdout",
     "output_type": "stream",
     "text": [
      "1 2\n"
     ]
    }
   ],
   "source": [
    "def fun11(a,b):\n",
    "    a = 10\n",
    "    b = 11\n",
    "    \n",
    "x = 1\n",
    "y =2\n",
    "fun11(x,y)\n",
    "\n",
    "print(x,y)"
   ]
  },
  {
   "cell_type": "code",
   "execution_count": 56,
   "metadata": {},
   "outputs": [
    {
     "name": "stdout",
     "output_type": "stream",
     "text": [
      "[1, 2] 2\n"
     ]
    }
   ],
   "source": [
    "def fun12(a,b):\n",
    "    a = 23\n",
    "    \n",
    "x = [1,2]\n",
    "y =2\n",
    "fun12(x,y)\n",
    "\n",
    "print(x,y)"
   ]
  },
  {
   "cell_type": "code",
   "execution_count": 57,
   "metadata": {},
   "outputs": [
    {
     "name": "stdout",
     "output_type": "stream",
     "text": [
      "[1, 2, 25] 2\n"
     ]
    }
   ],
   "source": [
    "def fun13(a,b):\n",
    "    a.append(25)\n",
    "    \n",
    "x = [1,2]\n",
    "y =2\n",
    "fun13(x,y)\n",
    "\n",
    "print(x,y)"
   ]
  },
  {
   "cell_type": "code",
   "execution_count": 59,
   "metadata": {},
   "outputs": [
    {
     "name": "stdout",
     "output_type": "stream",
     "text": [
      "10 2\n"
     ]
    }
   ],
   "source": [
    "def fun14(a,b):\n",
    "    a = a+25\n",
    "    \n",
    "x = 10\n",
    "y =2\n",
    "fun14(x,y)\n",
    "\n",
    "print(x,y)"
   ]
  },
  {
   "cell_type": "code",
   "execution_count": 63,
   "metadata": {},
   "outputs": [
    {
     "name": "stdout",
     "output_type": "stream",
     "text": [
      "[1, 2, 25]\n",
      "[1, 2]\n"
     ]
    }
   ],
   "source": [
    "def fun13(a,b):\n",
    "    a.append(25)\n",
    "    print(a)\n",
    "    \n",
    "x = [1,2]\n",
    "z = x.copy()\n",
    "y =2\n",
    "fun13(z,y)\n",
    "print(x)\n"
   ]
  },
  {
   "cell_type": "code",
   "execution_count": 67,
   "metadata": {},
   "outputs": [
    {
     "name": "stdout",
     "output_type": "stream",
     "text": [
      "[1, 2, 25]\n"
     ]
    }
   ],
   "source": [
    "def fun13(fun_list):\n",
    "    fun_list.append(25)\n",
    "    # print(fun_list)\n",
    "    \n",
    "orignal_list = [1,2]\n",
    "# copy_list =orignal_list\n",
    "\n",
    "fun13(orignal_list,)\n",
    "print(orignal_list)"
   ]
  },
  {
   "cell_type": "code",
   "execution_count": 69,
   "metadata": {},
   "outputs": [
    {
     "name": "stdout",
     "output_type": "stream",
     "text": [
      "[1, 2, 25]\n",
      "[1, 2]\n"
     ]
    }
   ],
   "source": [
    "def fun13(fun_list):\n",
    "    fun_list.append(25)\n",
    "    print(fun_list)\n",
    "    \n",
    "orignal_list = [1,2]\n",
    "copy_list =orignal_list.copy()\n",
    "\n",
    "fun13(copy_list,)\n",
    "print(orignal_list)"
   ]
  },
  {
   "cell_type": "code",
   "execution_count": 70,
   "metadata": {},
   "outputs": [
    {
     "name": "stdout",
     "output_type": "stream",
     "text": [
      "[1, 2, 25]\n",
      "[1, 2]\n"
     ]
    }
   ],
   "source": [
    "def fun13(fun_list):\n",
    "    fun_list.append(25)\n",
    "    print(fun_list)\n",
    "    \n",
    "orignal_list = [1,2]\n",
    "copy_list =orignal_list[:]\n",
    "\n",
    "fun13(copy_list,)\n",
    "print(orignal_list)"
   ]
  },
  {
   "cell_type": "code",
   "execution_count": 71,
   "metadata": {},
   "outputs": [
    {
     "name": "stdout",
     "output_type": "stream",
     "text": [
      "[1, 2, 25]\n",
      "[1, 2]\n"
     ]
    }
   ],
   "source": [
    "def fun13(fun_list):\n",
    "    fun_list.append(25)\n",
    "    print(fun_list)\n",
    "    \n",
    "orignal_list = [1,2]\n",
    "\n",
    "fun13(orignal_list[:],)\n",
    "print(orignal_list)"
   ]
  },
  {
   "cell_type": "code",
   "execution_count": null,
   "metadata": {},
   "outputs": [],
   "source": [
    "# yield"
   ]
  },
  {
   "cell_type": "code",
   "execution_count": 74,
   "metadata": {},
   "outputs": [
    {
     "name": "stdout",
     "output_type": "stream",
     "text": [
      "inside list 1\n",
      "inside list 2\n",
      "inside list 3\n",
      "inside list 4\n",
      "returned value 4\n"
     ]
    }
   ],
   "source": [
    "def fun1(list1):\n",
    "    for i in list1:\n",
    "        print(\"inside list\",i)\n",
    "        \n",
    "    return i\n",
    "    \n",
    "original_list = [1,2,3,4]\n",
    "a=fun1(original_list)\n",
    "print(\"returned value\", a)"
   ]
  },
  {
   "cell_type": "code",
   "execution_count": null,
   "metadata": {},
   "outputs": [],
   "source": [
    "\n",
    "def fun1(list1):\n",
    "    for i in list1:\n",
    "        print(\"inside list\",i)\n",
    "        # some functionality\n",
    "        return i\n",
    "        \n",
    "    \n",
    "    \n",
    "original_list = [1,2,3,4]\n",
    "a=fun1(original_list)\n",
    "print(\"returned value\", a)\n",
    "\n",
    "a=fun1(original_list) # second call\n",
    "print(\"returned value second call\", a)\n",
    "\n",
    "\n",
    "a=fun1(original_list) # second call\n",
    "print(\"returned value third call\", a)"
   ]
  },
  {
   "cell_type": "code",
   "execution_count": null,
   "metadata": {},
   "outputs": [],
   "source": [
    "import time;\n",
    "def fun1(list1):\n",
    "    for i in list1:\n",
    "        print(\"inside list\",i)\n",
    "        # some functionality\n",
    "        time.sleep(2)\n",
    "        return i\n",
    "        \n",
    "    \n",
    "    \n",
    "original_list = [1,2,3,4]\n",
    "a=fun1(original_list)\n",
    "print(\"returned value\", a)"
   ]
  },
  {
   "cell_type": "code",
   "execution_count": 75,
   "metadata": {},
   "outputs": [
    {
     "name": "stdout",
     "output_type": "stream",
     "text": [
      "returned value <generator object fun1 at 0x000001F6139E97E0>\n",
      "returned value second call <generator object fun1 at 0x000001F6139E9EE0>\n",
      "returned value third call <generator object fun1 at 0x000001F6139EA0A0>\n"
     ]
    }
   ],
   "source": [
    "\n",
    "def fun1(list1):\n",
    "    for i in list1:\n",
    "        print(\"inside list\",i)\n",
    "        # some functionality\n",
    "        yield i\n",
    "        \n",
    "    \n",
    "    \n",
    "original_list = [1,2,3,4]\n",
    "a=fun1(original_list)\n",
    "print(\"returned value\", a)\n",
    "\n",
    "a=fun1(original_list) # second call\n",
    "print(\"returned value second call\", a)\n",
    "\n",
    "\n",
    "a=fun1(original_list) # second call\n",
    "print(\"returned value third call\", a)"
   ]
  },
  {
   "cell_type": "code",
   "execution_count": null,
   "metadata": {},
   "outputs": [],
   "source": [
    "# multiply array values by 2 --- \n",
    "def fun1(list1):\n",
    "    for i in list1:\n",
    "        \n",
    "        print(\"inside list\",i)\n",
    "        # some functionality\n",
    "        return i\n",
    "        \n",
    "    \n",
    "    \n",
    "original_list = [1,2,3,4]\n",
    "a=fun1(original_list)\n",
    "print(\"returned value\", a)"
   ]
  },
  {
   "cell_type": "code",
   "execution_count": 5,
   "metadata": {},
   "outputs": [
    {
     "name": "stdout",
     "output_type": "stream",
     "text": [
      "1\n",
      "4\n",
      "9\n",
      "16\n"
     ]
    }
   ],
   "source": [
    "# multiply array values by 2 --- \n",
    "import time\n",
    "def pow(list1):\n",
    "    multiplied_list = []\n",
    "    for i in list1:\n",
    "        multiplied_list.append(i*i)\n",
    "        time.sleep(1)\n",
    "        # some functionality\n",
    "    \n",
    "    return multiplied_list\n",
    "    \n",
    "    \n",
    "original_list = [1,2,3,4]\n",
    "outside_mul_list=pow(original_list)\n",
    "for i in outside_mul_list:\n",
    "    print(i)"
   ]
  },
  {
   "cell_type": "code",
   "execution_count": 6,
   "metadata": {},
   "outputs": [
    {
     "name": "stdout",
     "output_type": "stream",
     "text": [
      "1\n",
      "4\n",
      "9\n",
      "16\n"
     ]
    }
   ],
   "source": [
    "# multiply array values by 2 --- \n",
    "import time\n",
    "def pow(list1):\n",
    "    multiplied_list = []\n",
    "    for i in list1:\n",
    "        # multiplied_list.append(i*i)\n",
    "        time.sleep(1)\n",
    "        yield(i*i)\n",
    "        # some functionality\n",
    "    \n",
    "    \n",
    "    \n",
    "    \n",
    "original_list = [1,2,3,4]\n",
    "outside_mul_list=pow(original_list)\n",
    "for i in outside_mul_list:\n",
    "    print(i)"
   ]
  },
  {
   "cell_type": "code",
   "execution_count": 11,
   "metadata": {},
   "outputs": [
    {
     "data": {
      "text/plain": [
       "4"
      ]
     },
     "execution_count": 11,
     "metadata": {},
     "output_type": "execute_result"
    }
   ],
   "source": [
    "y = lambda x: x*x\n",
    "\n",
    "y(2)"
   ]
  },
  {
   "cell_type": "code",
   "execution_count": 9,
   "metadata": {},
   "outputs": [
    {
     "data": {
      "text/plain": [
       "4"
      ]
     },
     "execution_count": 9,
     "metadata": {},
     "output_type": "execute_result"
    }
   ],
   "source": [
    "def fun1(x):\n",
    "    return x*x;\n",
    "\n",
    "fun1(2)"
   ]
  },
  {
   "cell_type": "code",
   "execution_count": null,
   "metadata": {},
   "outputs": [],
   "source": []
  },
  {
   "cell_type": "code",
   "execution_count": 15,
   "metadata": {},
   "outputs": [
    {
     "data": {
      "text/plain": [
       "[1, 2, 10]"
      ]
     },
     "execution_count": 15,
     "metadata": {},
     "output_type": "execute_result"
    },
    {
     "data": {
      "text/plain": [
       "[5, 6, 20]"
      ]
     },
     "execution_count": 15,
     "metadata": {},
     "output_type": "execute_result"
    }
   ],
   "source": [
    "def append2(list1,list2=[5,6]):\n",
    "    list1.append(10)\n",
    "    list2.append(20)\n",
    "    \n",
    "    return list1, list2\n",
    "    \n",
    "olist1 = [1,2]\n",
    "olist2 = [3,4]\n",
    "mlist1, mlist2 = append2(olist1)\n",
    "mlist1\n",
    "mlist2\n",
    "    "
   ]
  },
  {
   "cell_type": "code",
   "execution_count": 17,
   "metadata": {},
   "outputs": [
    {
     "data": {
      "text/plain": [
       "15"
      ]
     },
     "execution_count": 17,
     "metadata": {},
     "output_type": "execute_result"
    },
    {
     "data": {
      "text/plain": [
       "30"
      ]
     },
     "execution_count": 17,
     "metadata": {},
     "output_type": "execute_result"
    }
   ],
   "source": [
    "def append2(fv, sv):\n",
    "    return fv+10, sv+20\n",
    "    \n",
    "ofv,osv = append2(5,10)\n",
    "ofv\n",
    "osv"
   ]
  },
  {
   "cell_type": "code",
   "execution_count": 18,
   "metadata": {},
   "outputs": [
    {
     "data": {
      "text/plain": [
       "30"
      ]
     },
     "execution_count": 18,
     "metadata": {},
     "output_type": "execute_result"
    },
    {
     "data": {
      "text/plain": [
       "15"
      ]
     },
     "execution_count": 18,
     "metadata": {},
     "output_type": "execute_result"
    }
   ],
   "source": [
    "def append2(fv, sv):\n",
    "    return fv+10, sv+20\n",
    "    \n",
    "osv,ofv = append2(5,10)\n",
    "ofv\n",
    "osv"
   ]
  },
  {
   "cell_type": "code",
   "execution_count": 19,
   "metadata": {},
   "outputs": [],
   "source": [
    "a , b = 15 , 30\n",
    "\n"
   ]
  },
  {
   "cell_type": "code",
   "execution_count": null,
   "metadata": {},
   "outputs": [],
   "source": [
    "b, a = 15,30\n",
    "a\n",
    "b"
   ]
  },
  {
   "cell_type": "code",
   "execution_count": 26,
   "metadata": {},
   "outputs": [
    {
     "data": {
      "text/plain": [
       "15"
      ]
     },
     "execution_count": 26,
     "metadata": {},
     "output_type": "execute_result"
    },
    {
     "data": {
      "text/plain": [
       "20"
      ]
     },
     "execution_count": 26,
     "metadata": {},
     "output_type": "execute_result"
    }
   ],
   "source": [
    "def append2(fv, sv=0):\n",
    "    return fv+10, sv+20\n",
    "    \n",
    "mfv, msv  = append2(5)\n",
    "mfv\n",
    "msv\n"
   ]
  },
  {
   "cell_type": "code",
   "execution_count": 27,
   "metadata": {},
   "outputs": [
    {
     "data": {
      "text/plain": [
       "15"
      ]
     },
     "execution_count": 27,
     "metadata": {},
     "output_type": "execute_result"
    },
    {
     "data": {
      "text/plain": [
       "40"
      ]
     },
     "execution_count": 27,
     "metadata": {},
     "output_type": "execute_result"
    }
   ],
   "source": [
    "mfv, msv  = append2(5,20)\n",
    "mfv\n",
    "msv"
   ]
  },
  {
   "cell_type": "markdown",
   "metadata": {},
   "source": [
    "# order matters"
   ]
  },
  {
   "cell_type": "code",
   "execution_count": 28,
   "metadata": {},
   "outputs": [
    {
     "ename": "SyntaxError",
     "evalue": "non-default argument follows default argument (4164090939.py, line 1)",
     "output_type": "error",
     "traceback": [
      "\u001b[1;36m  Cell \u001b[1;32mIn[28], line 1\u001b[1;36m\u001b[0m\n\u001b[1;33m    def append3(fv,sv=100,tv ):\u001b[0m\n\u001b[1;37m                          ^\u001b[0m\n\u001b[1;31mSyntaxError\u001b[0m\u001b[1;31m:\u001b[0m non-default argument follows default argument\n"
     ]
    }
   ],
   "source": [
    "def append3(fv,sv=100,tv=234 ):\n",
    "    return fv+10, sv+20\n",
    "    \n",
    "mfv, msv  = append3(5)\n",
    "mfv\n",
    "msv"
   ]
  },
  {
   "cell_type": "code",
   "execution_count": null,
   "metadata": {},
   "outputs": [],
   "source": [
    "import pandas as pd;\n",
    "\n",
    "list1 = [1,2,3,4]\n",
    "list1.append()"
   ]
  },
  {
   "cell_type": "markdown",
   "metadata": {},
   "source": [
    "type annotations"
   ]
  },
  {
   "cell_type": "markdown",
   "metadata": {},
   "source": [
    "doc string\n"
   ]
  },
  {
   "cell_type": "markdown",
   "metadata": {},
   "source": []
  },
  {
   "cell_type": "code",
   "execution_count": 30,
   "metadata": {},
   "outputs": [
    {
     "name": "stdout",
     "output_type": "stream",
     "text": [
      "_summary_: append3 is a simple function\n",
      "\n",
      "    Args:\n",
      "        fv (int): _description_ first value\n",
      "        sv (int, optional): _description_. Defaults to 100.\n",
      "        tv (int, optional): _description_. Defaults to 234.\n",
      "\n",
      "    Returns:\n",
      "        dict: _description_\n",
      "    \n"
     ]
    }
   ],
   "source": [
    "def append3(fv:int, sv=100,tv=234 ) -> dict:\n",
    "    \"\"\"_summary_: append3 is a simple function\n",
    "\n",
    "    Args:\n",
    "        fv (int): _description_ first value\n",
    "        sv (int, optional): _description_. Defaults to 100.\n",
    "        tv (int, optional): _description_. Defaults to 234.\n",
    "\n",
    "    Returns:\n",
    "        dict: _description_\n",
    "    \"\"\"\n",
    "    a = [1,2,3]\n",
    "    return a\n",
    "    \n",
    "mfv, msv  = append3(5)\n",
    "mfv\n",
    "msv\n",
    "\n",
    "print(append3.__doc__)"
   ]
  },
  {
   "cell_type": "code",
   "execution_count": null,
   "metadata": {},
   "outputs": [],
   "source": [
    "# Argv "
   ]
  },
  {
   "cell_type": "code",
   "execution_count": 34,
   "metadata": {},
   "outputs": [
    {
     "data": {
      "text/plain": [
       "19"
      ]
     },
     "execution_count": 34,
     "metadata": {},
     "output_type": "execute_result"
    }
   ],
   "source": [
    "def sum1(*argv):\n",
    "    sum = 0\n",
    "    for i in argv:\n",
    "        sum = sum+i\n",
    "        \n",
    "    return sum\n",
    "\n",
    "sum1(2,3,6,8)"
   ]
  },
  {
   "cell_type": "code",
   "execution_count": 37,
   "metadata": {},
   "outputs": [
    {
     "data": {
      "text/plain": [
       "-10"
      ]
     },
     "execution_count": 37,
     "metadata": {},
     "output_type": "execute_result"
    },
    {
     "data": {
      "text/plain": [
       "10"
      ]
     },
     "execution_count": 37,
     "metadata": {},
     "output_type": "execute_result"
    }
   ],
   "source": [
    "def diff(fv , sv ):\n",
    "   return fv-sv\n",
    "\n",
    "diff(50,60)\n",
    "diff(60,50)"
   ]
  },
  {
   "cell_type": "code",
   "execution_count": 40,
   "metadata": {},
   "outputs": [
    {
     "ename": "TypeError",
     "evalue": "diff() got an unexpected keyword argument 'tv'",
     "output_type": "error",
     "traceback": [
      "\u001b[1;31m---------------------------------------------------------------------------\u001b[0m",
      "\u001b[1;31mTypeError\u001b[0m                                 Traceback (most recent call last)",
      "Cell \u001b[1;32mIn[40], line 4\u001b[0m\n\u001b[0;32m      1\u001b[0m \u001b[39mdef\u001b[39;00m \u001b[39mdiff\u001b[39m(fv , sv ):\n\u001b[0;32m      2\u001b[0m    \u001b[39mreturn\u001b[39;00m fv\u001b[39m-\u001b[39msv\n\u001b[1;32m----> 4\u001b[0m diff(sv \u001b[39m=\u001b[39;49m \u001b[39m60\u001b[39;49m,fv\u001b[39m=\u001b[39;49m\u001b[39m50\u001b[39;49m,tv\u001b[39m=\u001b[39;49m \u001b[39m50\u001b[39;49m)\n",
      "\u001b[1;31mTypeError\u001b[0m: diff() got an unexpected keyword argument 'tv'"
     ]
    }
   ],
   "source": [
    "def diff(fv , sv ):\n",
    "   return fv-sv\n",
    "\n",
    "diff(sv = 60,fv=50,tv= 50)"
   ]
  },
  {
   "cell_type": "code",
   "execution_count": 42,
   "metadata": {},
   "outputs": [
    {
     "name": "stdout",
     "output_type": "stream",
     "text": [
      "{'sv': 60, 'fv': 50, 'tv': 50}\n"
     ]
    },
    {
     "data": {
      "text/plain": [
       "160"
      ]
     },
     "execution_count": 42,
     "metadata": {},
     "output_type": "execute_result"
    }
   ],
   "source": [
    "def sum4(**anyname ):\n",
    "   print(anyname)\n",
    "   sum = 0\n",
    "   for i in anyname.values():\n",
    "      sum=sum+i\n",
    "   return sum\n",
    "   \n",
    "sum4(sv = 60,fv=50,tv= 50)"
   ]
  },
  {
   "cell_type": "code",
   "execution_count": null,
   "metadata": {},
   "outputs": [],
   "source": [
    "positional arguments.\n",
    "default arguments\n",
    "*args arguments.\n",
    "**kwargs arguments\n"
   ]
  },
  {
   "cell_type": "code",
   "execution_count": null,
   "metadata": {},
   "outputs": [],
   "source": [
    "def fun1(fv ,sv=345,*args,**kwargs):\n",
    "    pass"
   ]
  },
  {
   "cell_type": "code",
   "execution_count": 44,
   "metadata": {},
   "outputs": [
    {
     "ename": "SyntaxError",
     "evalue": "arguments cannot follow var-keyword argument (61904360.py, line 1)",
     "output_type": "error",
     "traceback": [
      "\u001b[1;36m  Cell \u001b[1;32mIn[44], line 1\u001b[1;36m\u001b[0m\n\u001b[1;33m    def fun1(fv,*args,**kwargs,sv=345,):\u001b[0m\n\u001b[1;37m                               ^\u001b[0m\n\u001b[1;31mSyntaxError\u001b[0m\u001b[1;31m:\u001b[0m arguments cannot follow var-keyword argument\n"
     ]
    }
   ],
   "source": [
    "def fun1(fv,*args,**kwargs,sv=345,):\n",
    "    pass"
   ]
  },
  {
   "cell_type": "code",
   "execution_count": 45,
   "metadata": {},
   "outputs": [
    {
     "ename": "TypeError",
     "evalue": "fun1() missing 1 required keyword-only argument: 'fv'",
     "output_type": "error",
     "traceback": [
      "\u001b[1;31m---------------------------------------------------------------------------\u001b[0m",
      "\u001b[1;31mTypeError\u001b[0m                                 Traceback (most recent call last)",
      "Cell \u001b[1;32mIn[45], line 4\u001b[0m\n\u001b[0;32m      1\u001b[0m \u001b[39mdef\u001b[39;00m \u001b[39mfun1\u001b[39m(\u001b[39m*\u001b[39margs,fv ,sv\u001b[39m=\u001b[39m\u001b[39m345\u001b[39m,\u001b[39m*\u001b[39m\u001b[39m*\u001b[39mkwargs):\n\u001b[0;32m      2\u001b[0m     \u001b[39mpass\u001b[39;00m\n\u001b[1;32m----> 4\u001b[0m fun1(\u001b[39m3\u001b[39;49m,\u001b[39m4\u001b[39;49m,\u001b[39m6\u001b[39;49m,\u001b[39m7\u001b[39;49m,\u001b[39m8\u001b[39;49m,)\n",
      "\u001b[1;31mTypeError\u001b[0m: fun1() missing 1 required keyword-only argument: 'fv'"
     ]
    }
   ],
   "source": [
    "def fun1(fv ,sv=345,*args,**kwargs):\n",
    "    pass\n",
    "\n",
    "fun1(3,4,6,7.5,8,a =10,y =20)"
   ]
  },
  {
   "cell_type": "code",
   "execution_count": 47,
   "metadata": {},
   "outputs": [],
   "source": [
    "def fun1(fv ,sv=345,*args,**kwargs):\n",
    "    pass\n",
    "\n",
    "fun1(3,4,6,7.5,8,a =10,y =20)"
   ]
  }
 ],
 "metadata": {
  "kernelspec": {
   "display_name": "Python 3",
   "language": "python",
   "name": "python3"
  },
  "language_info": {
   "codemirror_mode": {
    "name": "ipython",
    "version": 3
   },
   "file_extension": ".py",
   "mimetype": "text/x-python",
   "name": "python",
   "nbconvert_exporter": "python",
   "pygments_lexer": "ipython3",
   "version": "3.11.3"
  },
  "orig_nbformat": 4
 },
 "nbformat": 4,
 "nbformat_minor": 2
}
